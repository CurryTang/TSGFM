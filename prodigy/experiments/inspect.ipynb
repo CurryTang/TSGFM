{
 "cells": [
  {
   "cell_type": "code",
   "execution_count": null,
   "metadata": {},
   "outputs": [],
   "source": [
    "from tqdm import tqdm\n",
    "import cProfile\n",
    "\n",
    "root = \"/mnt/home/chenzh85/graphlang/PyGFM/datasets/mag240m\"\n",
    "n_hop = 2\n",
    "\n",
    "dataset = get_mag240m_dataset(root, n_hop)\n",
    "dataloader = get_mag240m_dataloader(dataset, \"train\", \"\", 5, 3, 3, 24, 10000, root, 10)\n",
    "\n",
    "test = next(iter(dataloader))\n"
   ]
  }
 ],
 "metadata": {
  "language_info": {
   "name": "python"
  }
 },
 "nbformat": 4,
 "nbformat_minor": 2
}
